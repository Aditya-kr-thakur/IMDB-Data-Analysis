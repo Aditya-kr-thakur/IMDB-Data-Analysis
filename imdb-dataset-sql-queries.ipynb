{
 "cells": [
  {
   "cell_type": "code",
   "execution_count": 1,
   "id": "a1cf55ba",
   "metadata": {
    "_cell_guid": "b1076dfc-b9ad-4769-8c92-a6c4dae69d19",
    "_uuid": "8f2839f25d086af736a60e9eeb907d3b93b6e0e5",
    "execution": {
     "iopub.execute_input": "2024-04-06T16:47:09.448119Z",
     "iopub.status.busy": "2024-04-06T16:47:09.447227Z",
     "iopub.status.idle": "2024-04-06T16:47:10.191880Z",
     "shell.execute_reply": "2024-04-06T16:47:10.190064Z"
    },
    "papermill": {
     "duration": 0.755093,
     "end_time": "2024-04-06T16:47:10.194379",
     "exception": false,
     "start_time": "2024-04-06T16:47:09.439286",
     "status": "completed"
    },
    "tags": []
   },
   "outputs": [
    {
     "name": "stdout",
     "output_type": "stream",
     "text": [
      "/kaggle/input/imdb-project-sql/sqlite.9.sql\n",
      "/kaggle/input/imdb-project-sql/IMDB SQL project.txt\n",
      "/kaggle/input/imdb-project-sql/movies.sqlite\n"
     ]
    }
   ],
   "source": [
    "# This Python 3 environment comes with many helpful analytics libraries installed\n",
    "# It is defined by the kaggle/python Docker image: https://github.com/kaggle/docker-python\n",
    "# For example, here's several helpful packages to load\n",
    "\n",
    "import numpy as np # linear algebra\n",
    "import pandas as pd # data processing, CSV file I/O (e.g. pd.read_csv)\n",
    "\n",
    "# Input data files are available in the read-only \"../input/\" directory\n",
    "# For example, running this (by clicking run or pressing Shift+Enter) will list all files under the input directory\n",
    "\n",
    "import os\n",
    "for dirname, _, filenames in os.walk('/kaggle/input'):\n",
    "    for filename in filenames:\n",
    "        print(os.path.join(dirname, filename))\n",
    "\n",
    "# You can write up to 20GB to the current directory (/kaggle/working/) that gets preserved as output when you create a version using \"Save & Run All\" \n",
    "# You can also write temporary files to /kaggle/temp/, but they won't be saved outside of the current session"
   ]
  },
  {
   "cell_type": "code",
   "execution_count": 2,
   "id": "547389ab",
   "metadata": {
    "execution": {
     "iopub.execute_input": "2024-04-06T16:47:10.204452Z",
     "iopub.status.busy": "2024-04-06T16:47:10.204020Z",
     "iopub.status.idle": "2024-04-06T16:47:10.209193Z",
     "shell.execute_reply": "2024-04-06T16:47:10.207941Z"
    },
    "papermill": {
     "duration": 0.012352,
     "end_time": "2024-04-06T16:47:10.211275",
     "exception": false,
     "start_time": "2024-04-06T16:47:10.198923",
     "status": "completed"
    },
    "tags": []
   },
   "outputs": [],
   "source": [
    "import sqlite3 as sql #for running sql queries\n",
    "import pandas as pd # for reading them"
   ]
  },
  {
   "cell_type": "code",
   "execution_count": 3,
   "id": "1815f9ac",
   "metadata": {
    "execution": {
     "iopub.execute_input": "2024-04-06T16:47:10.221348Z",
     "iopub.status.busy": "2024-04-06T16:47:10.220770Z",
     "iopub.status.idle": "2024-04-06T16:47:10.228075Z",
     "shell.execute_reply": "2024-04-06T16:47:10.227369Z"
    },
    "papermill": {
     "duration": 0.013965,
     "end_time": "2024-04-06T16:47:10.229542",
     "exception": false,
     "start_time": "2024-04-06T16:47:10.215577",
     "status": "completed"
    },
    "tags": []
   },
   "outputs": [
    {
     "name": "stdout",
     "output_type": "stream",
     "text": [
      "Database is connected successfully\n"
     ]
    }
   ],
   "source": [
    "Database = '/kaggle/input/imdb-project-sql/movies.sqlite' #defining a variable\n",
    "db = sql.connect(Database)\n",
    "print('Database is connected successfully')"
   ]
  },
  {
   "cell_type": "code",
   "execution_count": 4,
   "id": "ca6d0ab0",
   "metadata": {
    "execution": {
     "iopub.execute_input": "2024-04-06T16:47:10.239681Z",
     "iopub.status.busy": "2024-04-06T16:47:10.239065Z",
     "iopub.status.idle": "2024-04-06T16:47:10.722674Z",
     "shell.execute_reply": "2024-04-06T16:47:10.720372Z"
    },
    "papermill": {
     "duration": 0.491213,
     "end_time": "2024-04-06T16:47:10.724949",
     "exception": false,
     "start_time": "2024-04-06T16:47:10.233736",
     "status": "completed"
    },
    "tags": []
   },
   "outputs": [
    {
     "name": "stdout",
     "output_type": "stream",
     "text": [
      "         id                            original_title     budget  popularity  \\\n",
      "0     43597                                    Avatar  237000000         150   \n",
      "1     43598  Pirates of the Caribbean: At World's End  300000000         139   \n",
      "2     43599                                   Spectre  245000000         107   \n",
      "3     43600                     The Dark Knight Rises  250000000         112   \n",
      "4     43601                               John Carter  260000000          43   \n",
      "...     ...                                       ...        ...         ...   \n",
      "4768  48395                               El Mariachi     220000          14   \n",
      "4769  48396                                 Newlyweds       9000           0   \n",
      "4770  48397                 Signed, Sealed, Delivered          0           1   \n",
      "4771  48398                          Shanghai Calling          0           0   \n",
      "4772  48399                         My Date with Drew          0           1   \n",
      "\n",
      "     release_date     revenue                                     title  \\\n",
      "0      2009-12-10  2787965087                                    Avatar   \n",
      "1      2007-05-19   961000000  Pirates of the Caribbean: At World's End   \n",
      "2      2015-10-26   880674609                                   Spectre   \n",
      "3      2012-07-16  1084939099                     The Dark Knight Rises   \n",
      "4      2012-03-07   284139100                               John Carter   \n",
      "...           ...         ...                                       ...   \n",
      "4768   1992-09-04     2040920                               El Mariachi   \n",
      "4769   2011-12-26           0                                 Newlyweds   \n",
      "4770   2013-10-13           0                 Signed, Sealed, Delivered   \n",
      "4771   2012-05-03           0                          Shanghai Calling   \n",
      "4772   2005-08-05           0                         My Date with Drew   \n",
      "\n",
      "      vote_average  vote_count  \\\n",
      "0              7.2       11800   \n",
      "1              6.9        4500   \n",
      "2              6.3        4466   \n",
      "3              7.6        9106   \n",
      "4              6.1        2124   \n",
      "...            ...         ...   \n",
      "4768           6.6         238   \n",
      "4769           5.9           5   \n",
      "4770           7.0           6   \n",
      "4771           5.7           7   \n",
      "4772           6.3          16   \n",
      "\n",
      "                                               overview  \\\n",
      "0     In the 22nd century, a paraplegic Marine is di...   \n",
      "1     Captain Barbossa, long believed to be dead, ha...   \n",
      "2     A cryptic message from Bond’s past sends him o...   \n",
      "3     Following the death of District Attorney Harve...   \n",
      "4     John Carter is a war-weary, former military ca...   \n",
      "...                                                 ...   \n",
      "4768  El Mariachi just wants to play his guitar and ...   \n",
      "4769  A newlywed couple's honeymoon is upended by th...   \n",
      "4770  \"Signed, Sealed, Delivered\" introduces a dedic...   \n",
      "4771  When ambitious New York attorney Sam is sent t...   \n",
      "4772  Ever since the second grade when he first saw ...   \n",
      "\n",
      "                                                tagline     uid  director_id  \n",
      "0                           Enter the World of Pandora.   19995         4762  \n",
      "1        At the end of the world, the adventure begins.     285         4763  \n",
      "2                                 A Plan No One Escapes  206647         4764  \n",
      "3                                       The Legend Ends   49026         4765  \n",
      "4                  Lost in our world, found in another.   49529         4766  \n",
      "...                                                 ...     ...          ...  \n",
      "4768  He didn't come looking for trouble, but troubl...    9367         5097  \n",
      "4769  A newlywed couple's honeymoon is upended by th...   72766         6485  \n",
      "4770                                               None  231617         7108  \n",
      "4771                           A New Yorker in Shanghai  126186         7109  \n",
      "4772                                               None   25975         7110  \n",
      "\n",
      "[4773 rows x 13 columns]\n"
     ]
    }
   ],
   "source": [
    "#Query1 : GET ALL THE DATA FROM MOVIES\n",
    "qry1 = \"SELECT * FROM movies\"\n",
    "rd1 = pd.read_sql(qry1,db) \n",
    "print(rd1)"
   ]
  },
  {
   "cell_type": "code",
   "execution_count": 5,
   "id": "cd739138",
   "metadata": {
    "execution": {
     "iopub.execute_input": "2024-04-06T16:47:10.738263Z",
     "iopub.status.busy": "2024-04-06T16:47:10.737665Z",
     "iopub.status.idle": "2024-04-06T16:47:10.759089Z",
     "shell.execute_reply": "2024-04-06T16:47:10.757775Z"
    },
    "papermill": {
     "duration": 0.029456,
     "end_time": "2024-04-06T16:47:10.761295",
     "exception": false,
     "start_time": "2024-04-06T16:47:10.731839",
     "status": "completed"
    },
    "tags": []
   },
   "outputs": [
    {
     "name": "stdout",
     "output_type": "stream",
     "text": [
      "                   name    id  gender      uid department\n",
      "0         James Cameron  4762       2     2710  Directing\n",
      "1        Gore Verbinski  4763       2     1704  Directing\n",
      "2            Sam Mendes  4764       2       39  Directing\n",
      "3     Christopher Nolan  4765       2      525  Directing\n",
      "4        Andrew Stanton  4766       2        7  Directing\n",
      "...                 ...   ...     ...      ...        ...\n",
      "2344      Shane Carruth  7106       2    76624  Directing\n",
      "2345   Neill Dela Llana  7107       0  1174437  Directing\n",
      "2346        Scott Smith  7108       0  1219158  Directing\n",
      "2347        Daniel Hsia  7109       2   208138  Directing\n",
      "2348   Brian Herzlinger  7110       2    85563  Directing\n",
      "\n",
      "[2349 rows x 5 columns]\n"
     ]
    }
   ],
   "source": [
    "#Query2: Get All the data from directors\n",
    "qry2=\"SELECT * FROM directors\"\n",
    "rd2=pd.read_sql(qry2,db)\n",
    "print(rd2)"
   ]
  },
  {
   "cell_type": "code",
   "execution_count": 6,
   "id": "11562177",
   "metadata": {
    "execution": {
     "iopub.execute_input": "2024-04-06T16:47:10.771546Z",
     "iopub.status.busy": "2024-04-06T16:47:10.771255Z",
     "iopub.status.idle": "2024-04-06T16:47:11.186149Z",
     "shell.execute_reply": "2024-04-06T16:47:11.184888Z"
    },
    "papermill": {
     "duration": 0.421941,
     "end_time": "2024-04-06T16:47:11.187965",
     "exception": false,
     "start_time": "2024-04-06T16:47:10.766024",
     "status": "completed"
    },
    "tags": []
   },
   "outputs": [
    {
     "name": "stdout",
     "output_type": "stream",
     "text": [
      "   number_of_movies\n",
      "0              4773\n"
     ]
    }
   ],
   "source": [
    "#Query3: CHECK HOW MANY MOVIES ARE PRESENT IN IMDB\n",
    "qry3=\"SELECT COUNT(id) AS number_of_movies FROM movies\"\n",
    "\n",
    "rd3=pd.read_sql(qry3,db)\n",
    "print(rd3)"
   ]
  },
  {
   "cell_type": "code",
   "execution_count": 7,
   "id": "38b44425",
   "metadata": {
    "execution": {
     "iopub.execute_input": "2024-04-06T16:47:11.198315Z",
     "iopub.status.busy": "2024-04-06T16:47:11.198015Z",
     "iopub.status.idle": "2024-04-06T16:47:11.216466Z",
     "shell.execute_reply": "2024-04-06T16:47:11.215028Z"
    },
    "papermill": {
     "duration": 0.025726,
     "end_time": "2024-04-06T16:47:11.218282",
     "exception": false,
     "start_time": "2024-04-06T16:47:11.192556",
     "status": "completed"
    },
    "tags": []
   },
   "outputs": [
    {
     "name": "stdout",
     "output_type": "stream",
     "text": [
      "            name    id  gender    uid department\n",
      "0  James Cameron  4762       2   2710  Directing\n",
      "1       John Woo  4893       2  11401  Directing\n",
      "2     Luc Besson  4949       2     59  Directing\n"
     ]
    }
   ],
   "source": [
    "#Query4: FIND THESE 3 DIRECTORS: JAMES CAMERON ; LUC BESSON ; JOHN WOO\n",
    "qry4=\"SELECT * FROM directors WHERE name IN ('James Cameron','Luc Besson','John Woo')\"\n",
    "\n",
    "rd4=pd.read_sql(qry4,db)\n",
    "print(rd4)"
   ]
  },
  {
   "cell_type": "code",
   "execution_count": 8,
   "id": "1ea0cc64",
   "metadata": {
    "execution": {
     "iopub.execute_input": "2024-04-06T16:47:11.228768Z",
     "iopub.status.busy": "2024-04-06T16:47:11.228431Z",
     "iopub.status.idle": "2024-04-06T16:47:11.237955Z",
     "shell.execute_reply": "2024-04-06T16:47:11.236653Z"
    },
    "papermill": {
     "duration": 0.016736,
     "end_time": "2024-04-06T16:47:11.239733",
     "exception": false,
     "start_time": "2024-04-06T16:47:11.222997",
     "status": "completed"
    },
    "tags": []
   },
   "outputs": [
    {
     "name": "stdout",
     "output_type": "stream",
     "text": [
      "                 name\n",
      "0    Steven Spielberg\n",
      "1   Steven Soderbergh\n",
      "2        Steven Brill\n",
      "3     Steven Zaillian\n",
      "4        Steven Quale\n",
      "5       Steven Seagal\n",
      "6  Steven E. de Souza\n",
      "7    Steven Shainberg\n",
      "8    Steven R. Monroe\n"
     ]
    }
   ],
   "source": [
    "#Query5: FIND ALL DIRECTORS WITH NAME STARTING WITH STEVEN.\n",
    "qry5=\"SELECT name FROM directors WHERE name LIKE 'Steven%'\"\n",
    "\n",
    "rd5=pd.read_sql(qry5,db)\n",
    "print(rd5)"
   ]
  },
  {
   "cell_type": "code",
   "execution_count": 9,
   "id": "2f674371",
   "metadata": {
    "execution": {
     "iopub.execute_input": "2024-04-06T16:47:11.250443Z",
     "iopub.status.busy": "2024-04-06T16:47:11.250139Z",
     "iopub.status.idle": "2024-04-06T16:47:11.259380Z",
     "shell.execute_reply": "2024-04-06T16:47:11.258255Z"
    },
    "papermill": {
     "duration": 0.016759,
     "end_time": "2024-04-06T16:47:11.261283",
     "exception": false,
     "start_time": "2024-04-06T16:47:11.244524",
     "status": "completed"
    },
    "tags": []
   },
   "outputs": [
    {
     "name": "stdout",
     "output_type": "stream",
     "text": [
      "   no_of_female_directors\n",
      "0                     150\n"
     ]
    }
   ],
   "source": [
    "#Query6 : COUNT ALL THE FEMALE DIRECTORS\n",
    "qry6=\"SELECT COUNT(gender) AS no_of_female_directors FROM directors WHERE gender=1\"\n",
    "rd6=pd.read_sql(qry6,db)\n",
    "print(rd6)"
   ]
  },
  {
   "cell_type": "code",
   "execution_count": 10,
   "id": "2837de3a",
   "metadata": {
    "execution": {
     "iopub.execute_input": "2024-04-06T16:47:11.272276Z",
     "iopub.status.busy": "2024-04-06T16:47:11.271928Z",
     "iopub.status.idle": "2024-04-06T16:47:11.281502Z",
     "shell.execute_reply": "2024-04-06T16:47:11.279913Z"
    },
    "papermill": {
     "duration": 0.017233,
     "end_time": "2024-04-06T16:47:11.283367",
     "exception": false,
     "start_time": "2024-04-06T16:47:11.266134",
     "status": "completed"
    },
    "tags": []
   },
   "outputs": [
    {
     "name": "stdout",
     "output_type": "stream",
     "text": [
      "                  name\n",
      "0       Brenda Chapman\n",
      "1      Lilly Wachowski\n",
      "2  Jennifer Yuh Nelson\n",
      "3      Kathryn Bigelow\n",
      "4         Nancy Meyers\n",
      "5          Jill Culton\n",
      "6           Mimi Leder\n",
      "7         Vicky Jenson\n",
      "8         Betty Thomas\n",
      "9       Angelina Jolie\n"
     ]
    }
   ],
   "source": [
    "#Query7 : FIND THE NAME OF THE FIRST 10TH  WOMEN DIRECTOR\n",
    "qry7=\"SELECT name FROM directors WHERE gender=1 ORDER BY id LIMIT 10 \"\n",
    "rd7=pd.read_sql(qry7,db)\n",
    "print(rd7)"
   ]
  },
  {
   "cell_type": "code",
   "execution_count": 11,
   "id": "08a9539f",
   "metadata": {
    "execution": {
     "iopub.execute_input": "2024-04-06T16:47:11.295420Z",
     "iopub.status.busy": "2024-04-06T16:47:11.295069Z",
     "iopub.status.idle": "2024-04-06T16:47:11.303745Z",
     "shell.execute_reply": "2024-04-06T16:47:11.302631Z"
    },
    "papermill": {
     "duration": 0.017468,
     "end_time": "2024-04-06T16:47:11.305886",
     "exception": false,
     "start_time": "2024-04-06T16:47:11.288418",
     "status": "completed"
    },
    "tags": []
   },
   "outputs": [
    {
     "name": "stdout",
     "output_type": "stream",
     "text": [
      "           name\n",
      "0  Karyn Kusama\n"
     ]
    }
   ],
   "source": [
    "#Query8 : FIND THE NAME OF THE 10TH WOMEN DIRECTOR\n",
    "qry8=\"SELECT name FROM directors WHERE gender=1 ORDER BY id LIMIT 1 OFFSET 10 \"\n",
    "rd8=pd.read_sql(qry8,db)\n",
    "print(rd8)"
   ]
  },
  {
   "cell_type": "code",
   "execution_count": 12,
   "id": "500bb25d",
   "metadata": {
    "execution": {
     "iopub.execute_input": "2024-04-06T16:47:11.317462Z",
     "iopub.status.busy": "2024-04-06T16:47:11.317140Z",
     "iopub.status.idle": "2024-04-06T16:47:11.672104Z",
     "shell.execute_reply": "2024-04-06T16:47:11.671293Z"
    },
    "papermill": {
     "duration": 0.363061,
     "end_time": "2024-04-06T16:47:11.674261",
     "exception": false,
     "start_time": "2024-04-06T16:47:11.311200",
     "status": "completed"
    },
    "tags": []
   },
   "outputs": [
    {
     "name": "stdout",
     "output_type": "stream",
     "text": [
      "          title\n",
      "0       Minions\n",
      "1  Interstellar\n",
      "2      Deadpool\n"
     ]
    }
   ],
   "source": [
    "#Query9 : WHAT ARE THE 3 MOST POPULAR MOVIES?\n",
    "qry9=\"SELECT title FROM movies ORDER BY popularity DESC LIMIT 3\"\n",
    "rd9=pd.read_sql(qry9,db)\n",
    "print(rd9)"
   ]
  },
  {
   "cell_type": "code",
   "execution_count": 13,
   "id": "fa038ed5",
   "metadata": {
    "execution": {
     "iopub.execute_input": "2024-04-06T16:47:11.686217Z",
     "iopub.status.busy": "2024-04-06T16:47:11.685670Z",
     "iopub.status.idle": "2024-04-06T16:47:12.036865Z",
     "shell.execute_reply": "2024-04-06T16:47:12.035517Z"
    },
    "papermill": {
     "duration": 0.359777,
     "end_time": "2024-04-06T16:47:12.039208",
     "exception": false,
     "start_time": "2024-04-06T16:47:11.679431",
     "status": "completed"
    },
    "tags": []
   },
   "outputs": [
    {
     "name": "stdout",
     "output_type": "stream",
     "text": [
      "                                         title\n",
      "0  Pirates of the Caribbean: On Stranger Tides\n",
      "1     Pirates of the Caribbean: At World's End\n",
      "2                      Avengers: Age of Ultron\n"
     ]
    }
   ],
   "source": [
    "#Query10 : WHAT ARE THE 3 MOST Expensive MOVIES?\n",
    "qry10=\"SELECT title FROM movies ORDER BY budget DESC LIMIT 3\"\n",
    "rd10=pd.read_sql(qry10,db)\n",
    "print(rd10)"
   ]
  },
  {
   "cell_type": "code",
   "execution_count": 14,
   "id": "c29131ce",
   "metadata": {
    "execution": {
     "iopub.execute_input": "2024-04-06T16:47:12.051214Z",
     "iopub.status.busy": "2024-04-06T16:47:12.050223Z",
     "iopub.status.idle": "2024-04-06T16:47:12.401675Z",
     "shell.execute_reply": "2024-04-06T16:47:12.400844Z"
    },
    "papermill": {
     "duration": 0.359321,
     "end_time": "2024-04-06T16:47:12.403649",
     "exception": false,
     "start_time": "2024-04-06T16:47:12.044328",
     "status": "completed"
    },
    "tags": []
   },
   "outputs": [
    {
     "name": "stdout",
     "output_type": "stream",
     "text": [
      "       title  vote_average\n",
      "0  Sardaarji           9.5\n"
     ]
    }
   ],
   "source": [
    "#Query11 : WHAT IS THE MOST AWARDED AVERAGE VOTE SINCE JAN-1-2000?\n",
    "qry11=\"SELECT title,vote_average FROM movies WHERE release_date>='2000-01-01' ORDER BY vote_average DESC LIMIT 1\"\n",
    "rd11=pd.read_sql(qry11,db)\n",
    "print(rd11)"
   ]
  },
  {
   "cell_type": "code",
   "execution_count": 15,
   "id": "f6ca0ec2",
   "metadata": {
    "execution": {
     "iopub.execute_input": "2024-04-06T16:47:12.414813Z",
     "iopub.status.busy": "2024-04-06T16:47:12.414511Z",
     "iopub.status.idle": "2024-04-06T16:47:12.749481Z",
     "shell.execute_reply": "2024-04-06T16:47:12.748490Z"
    },
    "papermill": {
     "duration": 0.342517,
     "end_time": "2024-04-06T16:47:12.751355",
     "exception": false,
     "start_time": "2024-04-06T16:47:12.408838",
     "status": "completed"
    },
    "tags": []
   },
   "outputs": [
    {
     "name": "stdout",
     "output_type": "stream",
     "text": [
      "   title\n",
      "0  Brave\n"
     ]
    }
   ],
   "source": [
    "#Query12: WHICH MOVIES WERE DIRECTED BY BRENDA CHAPMAN?\n",
    "qry12=\"SELECT title FROM movies WHERE director_id=(SELECT id FROM directors WHERE name='Brenda Chapman')\"\n",
    "rd12=pd.read_sql(qry12,db)\n",
    "print(rd12)"
   ]
  },
  {
   "cell_type": "code",
   "execution_count": 16,
   "id": "1a5422d9",
   "metadata": {
    "execution": {
     "iopub.execute_input": "2024-04-06T16:47:12.763757Z",
     "iopub.status.busy": "2024-04-06T16:47:12.763419Z",
     "iopub.status.idle": "2024-04-06T16:47:13.111839Z",
     "shell.execute_reply": "2024-04-06T16:47:13.110974Z"
    },
    "papermill": {
     "duration": 0.357371,
     "end_time": "2024-04-06T16:47:13.113919",
     "exception": false,
     "start_time": "2024-04-06T16:47:12.756548",
     "status": "completed"
    },
    "tags": []
   },
   "outputs": [
    {
     "name": "stdout",
     "output_type": "stream",
     "text": [
      "                                       title\n",
      "0                                     Avatar\n",
      "1   Pirates of the Caribbean: At World's End\n",
      "2                                    Spectre\n",
      "3                      The Dark Knight Rises\n",
      "4                               Spider-Man 3\n",
      "..                                       ...\n",
      "86                              Pulp Fiction\n",
      "87                             The Godfather\n",
      "88           One Flew Over the Cuckoo's Nest\n",
      "89                                  Whiplash\n",
      "90                                It Follows\n",
      "\n",
      "[91 rows x 1 columns]\n"
     ]
    }
   ],
   "source": [
    "#Query13 : NAME ALL THE MOVIES WITH POPULARITY > 99\n",
    "qry13=\"SELECT title FROM movies WHERE popularity>99\"\n",
    "rd13=pd.read_sql(qry13,db)\n",
    "print(rd13)"
   ]
  },
  {
   "cell_type": "code",
   "execution_count": 17,
   "id": "d1a308f8",
   "metadata": {
    "execution": {
     "iopub.execute_input": "2024-04-06T16:47:13.125526Z",
     "iopub.status.busy": "2024-04-06T16:47:13.124645Z",
     "iopub.status.idle": "2024-04-06T16:47:13.480096Z",
     "shell.execute_reply": "2024-04-06T16:47:13.479200Z"
    },
    "papermill": {
     "duration": 0.364057,
     "end_time": "2024-04-06T16:47:13.483044",
     "exception": false,
     "start_time": "2024-04-06T16:47:13.118987",
     "status": "completed"
    },
    "tags": []
   },
   "outputs": [
    {
     "name": "stdout",
     "output_type": "stream",
     "text": [
      "                                   title\n",
      "0                                Spectre\n",
      "1                  The Dark Knight Rises\n",
      "2                            John Carter\n",
      "3                Avengers: Age of Ultron\n",
      "4     Batman v Superman: Dawn of Justice\n",
      "...                                  ...\n",
      "1203            All Superheroes Must Die\n",
      "1204        Sanctuary: Quite a Conundrum\n",
      "1205                           Newlyweds\n",
      "1206           Signed, Sealed, Delivered\n",
      "1207                    Shanghai Calling\n",
      "\n",
      "[1208 rows x 1 columns]\n"
     ]
    }
   ],
   "source": [
    "#Query14 : FIND OUT ALL THE MOVIES THAT WERE RELEASED AFTER 2011-01-01\n",
    "qry14=\"SELECT title FROM movies WHERE release_date>'2011-01-01'\"\n",
    "rd14=pd.read_sql(qry14,db)\n",
    "print(rd14)"
   ]
  },
  {
   "cell_type": "code",
   "execution_count": 18,
   "id": "9569e078",
   "metadata": {
    "execution": {
     "iopub.execute_input": "2024-04-06T16:47:13.494827Z",
     "iopub.status.busy": "2024-04-06T16:47:13.494483Z",
     "iopub.status.idle": "2024-04-06T16:47:13.815527Z",
     "shell.execute_reply": "2024-04-06T16:47:13.814939Z"
    },
    "papermill": {
     "duration": 0.329147,
     "end_time": "2024-04-06T16:47:13.817498",
     "exception": false,
     "start_time": "2024-04-06T16:47:13.488351",
     "status": "completed"
    },
    "tags": []
   },
   "outputs": [
    {
     "name": "stdout",
     "output_type": "stream",
     "text": [
      "           name\n",
      "0  Rob Marshall\n"
     ]
    }
   ],
   "source": [
    "#Most bankable director\n",
    "qry15=\"SELECT name FROM directors WHERE id=(SELECT director_id FROM movies ORDER BY budget DESC LIMIT 1)\"\n",
    "rd15=pd.read_sql(qry15,db)\n",
    "print(rd15)"
   ]
  }
 ],
 "metadata": {
  "kaggle": {
   "accelerator": "none",
   "dataSources": [
    {
     "datasetId": 982232,
     "sourceId": 1659117,
     "sourceType": "datasetVersion"
    }
   ],
   "dockerImageVersionId": 30673,
   "isGpuEnabled": false,
   "isInternetEnabled": true,
   "language": "python",
   "sourceType": "notebook"
  },
  "kernelspec": {
   "display_name": "Python 3",
   "language": "python",
   "name": "python3"
  },
  "language_info": {
   "codemirror_mode": {
    "name": "ipython",
    "version": 3
   },
   "file_extension": ".py",
   "mimetype": "text/x-python",
   "name": "python",
   "nbconvert_exporter": "python",
   "pygments_lexer": "ipython3",
   "version": "3.10.13"
  },
  "papermill": {
   "default_parameters": {},
   "duration": 7.099131,
   "end_time": "2024-04-06T16:47:14.241296",
   "environment_variables": {},
   "exception": null,
   "input_path": "__notebook__.ipynb",
   "output_path": "__notebook__.ipynb",
   "parameters": {},
   "start_time": "2024-04-06T16:47:07.142165",
   "version": "2.5.0"
  }
 },
 "nbformat": 4,
 "nbformat_minor": 5
}
